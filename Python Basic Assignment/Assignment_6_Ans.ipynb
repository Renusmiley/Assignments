{
 "cells": [
  {
   "cell_type": "markdown",
   "id": "7a9751e8",
   "metadata": {},
   "source": [
    "# Assignment 6 Solutions"
   ]
  },
  {
   "cell_type": "markdown",
   "id": "05b26c7f",
   "metadata": {},
   "source": [
    "### 1. What are escape characters, and how do you use them?"
   ]
  },
  {
   "cell_type": "markdown",
   "id": "8b3a61e1",
   "metadata": {},
   "source": [
    "#### Ans: Escape characters represent characters in string values that would otherwise be difficult or impossible to type into code. we can use the backslash character to escape a single character or symbol\n",
    "example: \\t, \\n"
   ]
  },
  {
   "cell_type": "markdown",
   "id": "5984a823",
   "metadata": {},
   "source": [
    "### 2. What do the escape characters n and t stand for?"
   ]
  },
  {
   "cell_type": "markdown",
   "id": "51fdab62",
   "metadata": {},
   "source": [
    "#### Ans: \\n is a newline, \\t is a tab"
   ]
  },
  {
   "cell_type": "markdown",
   "id": "41e2f4f8",
   "metadata": {},
   "source": [
    "### 3. What is the way to include backslash characters in a string?"
   ]
  },
  {
   "cell_type": "markdown",
   "id": "014473fa",
   "metadata": {},
   "source": [
    "#### Ans: The \\\\ escape character will represent the blackslash character in a string"
   ]
  },
  {
   "cell_type": "markdown",
   "id": "5f22e015",
   "metadata": {},
   "source": [
    "### 4. The string \"Howl's Moving Castle\" is a correct value. Why isn't the single quote character in the word Howl's not escaped a problem?"
   ]
  },
  {
   "cell_type": "markdown",
   "id": "fe0e2714",
   "metadata": {},
   "source": [
    "#### The string \"Howl's Moving Castle\" is fine beacuse you have enclosed the string with double quotes \"\" "
   ]
  },
  {
   "cell_type": "code",
   "execution_count": 11,
   "id": "ee5d0655",
   "metadata": {},
   "outputs": [],
   "source": [
    "s= \"Howl's Moving Castle\""
   ]
  },
  {
   "cell_type": "code",
   "execution_count": 12,
   "id": "f98811af",
   "metadata": {},
   "outputs": [
    {
     "data": {
      "text/plain": [
       "\"Howl's Moving Castle\""
      ]
     },
     "execution_count": 12,
     "metadata": {},
     "output_type": "execute_result"
    }
   ],
   "source": [
    "s"
   ]
  },
  {
   "cell_type": "markdown",
   "id": "0419ab44",
   "metadata": {},
   "source": [
    "### 5. How do you write a string of newlines if you don't want to use the n character?"
   ]
  },
  {
   "cell_type": "markdown",
   "id": "2441b098",
   "metadata": {},
   "source": [
    "#### Ans: without using the \\n escape character we can use the multilines string."
   ]
  },
  {
   "cell_type": "code",
   "execution_count": 15,
   "id": "38d549f7",
   "metadata": {},
   "outputs": [
    {
     "name": "stdout",
     "output_type": "stream",
     "text": [
      "Full Stack \n",
      "Data Science Course\n",
      "iNeuron\n"
     ]
    }
   ],
   "source": [
    "# Example\n",
    "s = '''Full Stack \n",
    "Data Science Course\n",
    "iNeuron'''\n",
    "print(s)"
   ]
  },
  {
   "cell_type": "markdown",
   "id": "a784c2d0",
   "metadata": {},
   "source": [
    "### 6. What are the values of the given expressions?\n",
    "'Hello, world!'[1]\n",
    "'Hello, world!'[0:5]\n",
    "'Hello, world!'[:5]\n",
    "'Hello, world!'[3:]"
   ]
  },
  {
   "cell_type": "markdown",
   "id": "6ba612bc",
   "metadata": {},
   "source": [
    "#### Ans:The values of the given expressions are:\n",
    "    "
   ]
  },
  {
   "cell_type": "code",
   "execution_count": 17,
   "id": "959d5a46",
   "metadata": {},
   "outputs": [],
   "source": [
    "a = \"Hello,world\""
   ]
  },
  {
   "cell_type": "code",
   "execution_count": 18,
   "id": "7979979c",
   "metadata": {},
   "outputs": [
    {
     "data": {
      "text/plain": [
       "'e'"
      ]
     },
     "execution_count": 18,
     "metadata": {},
     "output_type": "execute_result"
    }
   ],
   "source": [
    "a[1]"
   ]
  },
  {
   "cell_type": "code",
   "execution_count": 19,
   "id": "14999e02",
   "metadata": {},
   "outputs": [
    {
     "data": {
      "text/plain": [
       "'Hello'"
      ]
     },
     "execution_count": 19,
     "metadata": {},
     "output_type": "execute_result"
    }
   ],
   "source": [
    "a[0:5]"
   ]
  },
  {
   "cell_type": "code",
   "execution_count": 20,
   "id": "2f5e4028",
   "metadata": {},
   "outputs": [
    {
     "data": {
      "text/plain": [
       "'Hello'"
      ]
     },
     "execution_count": 20,
     "metadata": {},
     "output_type": "execute_result"
    }
   ],
   "source": [
    "a[:5]"
   ]
  },
  {
   "cell_type": "code",
   "execution_count": 21,
   "id": "fbe9895d",
   "metadata": {},
   "outputs": [
    {
     "data": {
      "text/plain": [
       "'lo,world'"
      ]
     },
     "execution_count": 21,
     "metadata": {},
     "output_type": "execute_result"
    }
   ],
   "source": [
    "a[3:]"
   ]
  },
  {
   "cell_type": "markdown",
   "id": "fa3b1efe",
   "metadata": {},
   "source": [
    "### 7. What are the values of the following expressions?\n",
    "'Hello'.upper()\n",
    "'Hello'.upper().isupper()\n",
    "'Hello'.upper().lower()"
   ]
  },
  {
   "cell_type": "markdown",
   "id": "3d106953",
   "metadata": {},
   "source": [
    "#### Ans: The values for the given expressions are :"
   ]
  },
  {
   "cell_type": "code",
   "execution_count": 22,
   "id": "b1c699a9",
   "metadata": {},
   "outputs": [],
   "source": [
    "b = \"Hello\""
   ]
  },
  {
   "cell_type": "code",
   "execution_count": 23,
   "id": "4c5f6118",
   "metadata": {},
   "outputs": [
    {
     "data": {
      "text/plain": [
       "'HELLO'"
      ]
     },
     "execution_count": 23,
     "metadata": {},
     "output_type": "execute_result"
    }
   ],
   "source": [
    "b.upper()"
   ]
  },
  {
   "cell_type": "code",
   "execution_count": 24,
   "id": "8506a3c1",
   "metadata": {},
   "outputs": [
    {
     "data": {
      "text/plain": [
       "True"
      ]
     },
     "execution_count": 24,
     "metadata": {},
     "output_type": "execute_result"
    }
   ],
   "source": [
    "b.upper().isupper()"
   ]
  },
  {
   "cell_type": "code",
   "execution_count": 26,
   "id": "cd3731c7",
   "metadata": {},
   "outputs": [
    {
     "data": {
      "text/plain": [
       "'hello'"
      ]
     },
     "execution_count": 26,
     "metadata": {},
     "output_type": "execute_result"
    }
   ],
   "source": [
    "b.upper().lower()"
   ]
  },
  {
   "cell_type": "markdown",
   "id": "2815b5a1",
   "metadata": {},
   "source": [
    "### 8. What are the values of the following expressions?\n",
    "'Remember, remember, the fifth of July.'.split()\n",
    "'-'.join('There can only one.'.split())"
   ]
  },
  {
   "cell_type": "markdown",
   "id": "1aa8c715",
   "metadata": {},
   "source": [
    "#### Ans:The values of the given expressions are:\n",
    "    "
   ]
  },
  {
   "cell_type": "code",
   "execution_count": 27,
   "id": "11cedeef",
   "metadata": {},
   "outputs": [],
   "source": [
    "c ='Remember, remember, the fifth of July.'.split()"
   ]
  },
  {
   "cell_type": "code",
   "execution_count": 28,
   "id": "0421e61c",
   "metadata": {},
   "outputs": [
    {
     "data": {
      "text/plain": [
       "['Remember,', 'remember,', 'the', 'fifth', 'of', 'July.']"
      ]
     },
     "execution_count": 28,
     "metadata": {},
     "output_type": "execute_result"
    }
   ],
   "source": [
    "c"
   ]
  },
  {
   "cell_type": "code",
   "execution_count": 29,
   "id": "b12f93b1",
   "metadata": {},
   "outputs": [],
   "source": [
    "l = '-'.join('There can only one.'.split())"
   ]
  },
  {
   "cell_type": "code",
   "execution_count": 30,
   "id": "08bb5fb8",
   "metadata": {},
   "outputs": [
    {
     "data": {
      "text/plain": [
       "'There-can-only-one.'"
      ]
     },
     "execution_count": 30,
     "metadata": {},
     "output_type": "execute_result"
    }
   ],
   "source": [
    "l"
   ]
  },
  {
   "cell_type": "markdown",
   "id": "041cd900",
   "metadata": {},
   "source": [
    "### 9. What are the methods for right-justifying, left-justifying, and centering a string?"
   ]
  },
  {
   "cell_type": "markdown",
   "id": "c372f00e",
   "metadata": {},
   "source": [
    "#### Ans: The methods for right-justifying is rjust() and the method for left-justifying is ljust() and for center is center() respectively."
   ]
  },
  {
   "cell_type": "markdown",
   "id": "52783be3",
   "metadata": {},
   "source": [
    "### 10. What is the best way to remove whitespace characters from the start or end?"
   ]
  },
  {
   "cell_type": "markdown",
   "id": "8bdea048",
   "metadata": {},
   "source": [
    "#### Ans: The best way to remove whitespace characters are lstrip() and rstrip() methods."
   ]
  }
 ],
 "metadata": {
  "kernelspec": {
   "display_name": "Python 3 (ipykernel)",
   "language": "python",
   "name": "python3"
  },
  "language_info": {
   "codemirror_mode": {
    "name": "ipython",
    "version": 3
   },
   "file_extension": ".py",
   "mimetype": "text/x-python",
   "name": "python",
   "nbconvert_exporter": "python",
   "pygments_lexer": "ipython3",
   "version": "3.10.4"
  }
 },
 "nbformat": 4,
 "nbformat_minor": 5
}
