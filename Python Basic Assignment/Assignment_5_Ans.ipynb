{
 "cells": [
  {
   "cell_type": "markdown",
   "id": "34a0f401",
   "metadata": {},
   "source": [
    "# Assignment 5 Solutions"
   ]
  },
  {
   "cell_type": "markdown",
   "id": "ff4a0d5f",
   "metadata": {},
   "source": [
    "### 1. What does an empty dictionary's code look like?"
   ]
  },
  {
   "cell_type": "markdown",
   "id": "a1f78bf8",
   "metadata": {},
   "source": [
    "Ans: An empty dictionary is often represented by 2 empty curly brackets \n",
    "d = {} or d = dict{} "
   ]
  },
  {
   "cell_type": "markdown",
   "id": "aa2c4310",
   "metadata": {},
   "source": [
    "### 2. What is the value of a dictionary value with the key 'foo' and the value 42?"
   ]
  },
  {
   "cell_type": "code",
   "execution_count": 4,
   "id": "daaef645",
   "metadata": {},
   "outputs": [
    {
     "data": {
      "text/plain": [
       "{'foo': 42}"
      ]
     },
     "execution_count": 4,
     "metadata": {},
     "output_type": "execute_result"
    }
   ],
   "source": [
    "{'foo' : 42}"
   ]
  },
  {
   "cell_type": "markdown",
   "id": "c7edb84b",
   "metadata": {},
   "source": [
    "### 3. What is the most significant distinction between a dictionary and a list?"
   ]
  },
  {
   "cell_type": "markdown",
   "id": "ee874567",
   "metadata": {},
   "source": [
    "#### Ans: The dictionaries are represented by {} where as listed are represented by [] The items stored in a dictionary are unordered,while the items in a list are ordered."
   ]
  },
  {
   "cell_type": "markdown",
   "id": "b4158816",
   "metadata": {},
   "source": [
    "### 4. What happens if you try to access spam['foo'] if spam is {'bar': 100}?"
   ]
  },
  {
   "cell_type": "markdown",
   "id": "a44342ae",
   "metadata": {},
   "source": [
    "#### Ans: It throws a error keyError: 'foo'"
   ]
  },
  {
   "cell_type": "markdown",
   "id": "3e4bdc3d",
   "metadata": {},
   "source": [
    "### 5. If a dictionary is stored in spam, what is the difference between the expressions 'cat' in spam and 'cat' in spam.keys()?"
   ]
  },
  {
   "cell_type": "markdown",
   "id": "94abfff4",
   "metadata": {},
   "source": [
    "#### Ans : There is no difference. The key operator checks whether a value exists akey in the dictionary or not."
   ]
  },
  {
   "cell_type": "markdown",
   "id": "be81b37f",
   "metadata": {},
   "source": [
    "### 6. If a dictionary is stored in spam, what is the difference between the expressions 'cat' in spam and 'cat' in spam.values()?"
   ]
  },
  {
   "cell_type": "markdown",
   "id": "5beb1d4d",
   "metadata": {},
   "source": [
    "#### Ans: 'cat' in spam checks whether there is a 'cat' key in the dictionary , while 'cat'in spam.values() checks whether there is a value in the 'cat'key or not."
   ]
  },
  {
   "cell_type": "markdown",
   "id": "c7709381",
   "metadata": {},
   "source": [
    "### 7. What is a shortcut for the following code?\n",
    "### if 'color' not in spam:\n",
    "### spam['color'] = 'black'"
   ]
  },
  {
   "cell_type": "markdown",
   "id": "a153649e",
   "metadata": {},
   "source": [
    "#### Ans: spam.setdefault('color','black')"
   ]
  },
  {
   "cell_type": "markdown",
   "id": "b4b997b2",
   "metadata": {},
   "source": [
    "### 8. How do you \"pretty print\" dictionary values using which module and function?"
   ]
  },
  {
   "cell_type": "markdown",
   "id": "b839e323",
   "metadata": {},
   "source": [
    "#### Ans: we can pretty print a dictionary by using pprint function"
   ]
  },
  {
   "cell_type": "code",
   "execution_count": 5,
   "id": "c52172b5",
   "metadata": {},
   "outputs": [
    {
     "name": "stdout",
     "output_type": "stream",
     "text": [
      "----------------------------------------------------------------------\n",
      "Printing using pprint() funciton\n",
      "[{'Age': 23,\n",
      "  'Location': {'country': 'India', 'state': 'Hyderabad'},\n",
      "  'Name': 'Renu'},\n",
      " {'Age': 23,\n",
      "  'Location': {'country': 'India', 'state': 'Mumbai'},\n",
      "  'Name': 'Aashi'},\n",
      " {'Age': 23,\n",
      "  'Location': {'country': 'India', 'state': 'Banglore'},\n",
      "  'Name': 'Satya'}]\n",
      "----------------------------------------------------------------------\n"
     ]
    }
   ],
   "source": [
    "dict=[{'Name':'Renu','Age': 23,'Location': {'country':'India', 'state':'Hyderabad'}},\n",
    "      {'Name':'Aashi','Age': 23,'Location': {'country':'India','state': 'Mumbai'}},\n",
    "      {'Name':'Satya','Age': 23,'Location': {'country':'India','state':'Banglore'}}]\n",
    "\n",
    "print('-'*70)\n",
    "import pprint\n",
    "print('Printing using pprint() funciton')\n",
    "pprint.pprint(dict)\n",
    "print('-'*70)\n",
    "    "
   ]
  },
  {
   "cell_type": "code",
   "execution_count": null,
   "id": "20642ac8",
   "metadata": {},
   "outputs": [],
   "source": []
  }
 ],
 "metadata": {
  "kernelspec": {
   "display_name": "Python 3 (ipykernel)",
   "language": "python",
   "name": "python3"
  },
  "language_info": {
   "codemirror_mode": {
    "name": "ipython",
    "version": 3
   },
   "file_extension": ".py",
   "mimetype": "text/x-python",
   "name": "python",
   "nbconvert_exporter": "python",
   "pygments_lexer": "ipython3",
   "version": "3.10.4"
  }
 },
 "nbformat": 4,
 "nbformat_minor": 5
}
